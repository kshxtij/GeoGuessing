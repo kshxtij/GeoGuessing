{
 "cells": [
  {
   "cell_type": "code",
   "execution_count": 1,
   "metadata": {},
   "outputs": [],
   "source": [
    "import torch\n",
    "from torch.utils.data import DataLoader\n",
    "from dataset.hfdataset import HFImageDataset\n",
    "from dataset.filedataset import FileDataset\n",
    "from dataset.transforms.geoclip import geoclip_train_transform\n",
    "from model.embedding_heads.clip_image import CLIPImageEncoder\n",
    "from model.embedding_heads.clip_text import CLIPTextEncoder\n",
    "from model.embedding_heads.dino_image import DINOImageEncoder\n",
    "from model.embedding_heads.rff_location import RFFLocationEncoder\n",
    "from model.GeoClip import GeoCLIP"
   ]
  },
  {
   "cell_type": "code",
   "execution_count": 2,
   "metadata": {},
   "outputs": [],
   "source": [
    "dataset = FileDataset(\"/Users/kshitij/Documents/University/Year4/MLP/RealProject/data/10K/metadata.csv\", \"/Users/kshitij/Documents/University/Year4/MLP/RealProject/data/10K\", transform=geoclip_train_transform())"
   ]
  },
  {
   "cell_type": "code",
   "execution_count": 3,
   "metadata": {},
   "outputs": [
    {
     "name": "stderr",
     "output_type": "stream",
     "text": [
      "Loading image paths and coordinates: 9984it [00:00, 48877.60it/s]\n"
     ]
    }
   ],
   "source": [
    "dataset.set_columns('file_name', 'lat', 'lon')\n",
    "dataset.load_dataset(\"/Users/kshitij/Documents/University/Year4/MLP/RealProject/data/10K/metadata.csv\")"
   ]
  },
  {
   "cell_type": "code",
   "execution_count": 4,
   "metadata": {},
   "outputs": [],
   "source": [
    "dataloader = DataLoader(dataset, batch_size=256, shuffle=True)"
   ]
  },
  {
   "cell_type": "code",
   "execution_count": 5,
   "metadata": {},
   "outputs": [],
   "source": [
    "location_encoder = RFFLocationEncoder()"
   ]
  },
  {
   "cell_type": "code",
   "execution_count": 6,
   "metadata": {},
   "outputs": [],
   "source": [
    "image_encoder = DINOImageEncoder()"
   ]
  },
  {
   "cell_type": "code",
   "execution_count": 14,
   "metadata": {},
   "outputs": [],
   "source": [
    "location_encoder.load_weights('weights/pretrained_geoclip/location_encoder_weights.pth')\n",
    "image_encoder.load_weights('weights/pretrained_geoclip/image_encoder_weights.pth')"
   ]
  },
  {
   "cell_type": "code",
   "execution_count": 15,
   "metadata": {},
   "outputs": [],
   "source": [
    "model = GeoCLIP(image_encoder, location_encoder, '/Users/kshitij/Documents/University/Year4/MLP/RealProject/weights/pretrained_geoclip/coordinates_100K.csv')"
   ]
  },
  {
   "cell_type": "code",
   "execution_count": 18,
   "metadata": {},
   "outputs": [],
   "source": [
    "model.load_weights('weights/pretrained_geoclip/logit_scale_weights.pth')"
   ]
  },
  {
   "cell_type": "code",
   "execution_count": 19,
   "metadata": {},
   "outputs": [
    {
     "name": "stdout",
     "output_type": "stream",
     "text": [
      "torch.Size([5, 2])\n",
      "Top 5 GPS Predictions 📍\n",
      "========================\n",
      "Prediction 1: (32.958195, -97.419975) - Probability: 0.002400\n",
      "Prediction 2: (29.971237, -98.833809) - Probability: 0.001870\n",
      "Prediction 3: (44.588921, 22.731888) - Probability: 0.001856\n",
      "Prediction 4: (48.528713, 8.797903) - Probability: 0.001781\n",
      "Prediction 5: (50.072697, 31.035105) - Probability: 0.001745\n"
     ]
    }
   ],
   "source": [
    "# Image Upload & Display\n",
    "from PIL import Image\n",
    "from io import BytesIO\n",
    "# from google.colab import files\n",
    "import matplotlib.pyplot as plt\n",
    "\n",
    "# Heatmap\n",
    "import folium\n",
    "from folium.plugins import HeatMap\n",
    "\n",
    "model.to('mps')\n",
    "# Make predictions\n",
    "top_pred_gps, top_pred_prob = model.predict(\"download.png\", top_k=5)\n",
    "print(top_pred_gps.shape)\n",
    "# Display the top 5 GPS predictions\n",
    "print(\"Top 5 GPS Predictions 📍\")\n",
    "print(\"========================\")\n",
    "for i in range(5):\n",
    "    lat, lon = top_pred_gps[i]\n",
    "    print(f\"Prediction {i+1}: ({lat:.6f}, {lon:.6f}) - Probability: {top_pred_prob[i]:.6f}\")"
   ]
  },
  {
   "cell_type": "code",
   "execution_count": null,
   "metadata": {},
   "outputs": [],
   "source": []
  }
 ],
 "metadata": {
  "kernelspec": {
   "display_name": "mlp",
   "language": "python",
   "name": "python3"
  },
  "language_info": {
   "codemirror_mode": {
    "name": "ipython",
    "version": 3
   },
   "file_extension": ".py",
   "mimetype": "text/x-python",
   "name": "python",
   "nbconvert_exporter": "python",
   "pygments_lexer": "ipython3",
   "version": "3.12.2"
  }
 },
 "nbformat": 4,
 "nbformat_minor": 2
}
