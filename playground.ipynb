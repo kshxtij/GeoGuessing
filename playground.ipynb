{
 "cells": [
  {
   "cell_type": "code",
   "execution_count": 1,
   "metadata": {},
   "outputs": [],
   "source": [
    "import torch\n",
    "from torch.utils.data import DataLoader\n",
    "from dataset.hfdataset import HFImageDataset\n",
    "from dataset.filedataset import FileDataset\n",
    "from dataset.transforms.geoclip import geoclip_train_transform\n",
    "from model.embedding_heads.clip_image import CLIPImageEncoder\n",
    "from model.embedding_heads.clip_text import CLIPTextEncoder\n",
    "from model.embedding_heads.dino_image import DINOImageEncoder\n",
    "from model.embedding_heads.rff_location import RFFLocationEncoder\n",
    "from model.GeoClip import GeoCLIP"
   ]
  },
  {
   "cell_type": "code",
   "execution_count": 28,
   "metadata": {},
   "outputs": [
    {
     "ename": "TypeError",
     "evalue": "HFImageDataset.__init__() got an unexpected keyword argument 'trust_remote_code'",
     "output_type": "error",
     "traceback": [
      "\u001b[0;31m---------------------------------------------------------------------------\u001b[0m",
      "\u001b[0;31mTypeError\u001b[0m                                 Traceback (most recent call last)",
      "Cell \u001b[0;32mIn[28], line 1\u001b[0m\n\u001b[0;32m----> 1\u001b[0m dataset \u001b[38;5;241m=\u001b[39m HFImageDataset(huggingface_dataset_name\u001b[38;5;241m=\u001b[39m\u001b[38;5;124m'\u001b[39m\u001b[38;5;124mosv5m/osv5m\u001b[39m\u001b[38;5;124m'\u001b[39m, split\u001b[38;5;241m=\u001b[39m\u001b[38;5;124m'\u001b[39m\u001b[38;5;124mtrain\u001b[39m\u001b[38;5;124m'\u001b[39m, transform\u001b[38;5;241m=\u001b[39mgeoclip_train_transform, trust_remote_code\u001b[38;5;241m=\u001b[39m\u001b[38;5;28;01mTrue\u001b[39;00m)\n",
      "\u001b[0;31mTypeError\u001b[0m: HFImageDataset.__init__() got an unexpected keyword argument 'trust_remote_code'"
     ]
    }
   ],
   "source": [
    "dataset = HFImageDataset(huggingface_dataset_name='osv5m/osv5m', split='train', transform=geoclip_train_transform)"
   ]
  },
  {
   "cell_type": "code",
   "execution_count": 3,
   "metadata": {},
   "outputs": [
    {
     "name": "stderr",
     "output_type": "stream",
     "text": [
      "Loading image paths and coordinates: 9984it [00:00, 48877.60it/s]\n"
     ]
    }
   ],
   "source": [
    "dataset.set_columns('file_name', 'lat', 'lon')\n",
    "dataset.load_dataset(\"/Users/kshitij/Documents/University/Year4/MLP/RealProject/data/10K/metadata.csv\")"
   ]
  },
  {
   "cell_type": "code",
   "execution_count": 4,
   "metadata": {},
   "outputs": [],
   "source": [
    "dataloader = DataLoader(dataset, batch_size=256, shuffle=True)"
   ]
  },
  {
   "cell_type": "code",
   "execution_count": 5,
   "metadata": {},
   "outputs": [],
   "source": [
    "location_encoder = RFFLocationEncoder()"
   ]
  },
  {
   "cell_type": "code",
   "execution_count": 6,
   "metadata": {},
   "outputs": [],
   "source": [
    "image_encoder = DINOImageEncoder()"
   ]
  },
  {
   "cell_type": "code",
   "execution_count": 21,
   "metadata": {},
   "outputs": [],
   "source": [
    "location_encoder.load_weights('weights/pretrained_geoclip/location_encoder_weights.pth')\n",
    "image_encoder.load_weights('weights/pretrained_geoclip/image_encoder_mlp_weights.pth')"
   ]
  },
  {
   "cell_type": "code",
   "execution_count": 22,
   "metadata": {},
   "outputs": [],
   "source": [
    "model = GeoCLIP(image_encoder, location_encoder, '/Users/kshitij/Documents/University/Year4/MLP/RealProject/weights/pretrained_geoclip/coordinates_100K.csv')"
   ]
  },
  {
   "cell_type": "code",
   "execution_count": 23,
   "metadata": {},
   "outputs": [],
   "source": [
    "model.load_weights('weights/pretrained_geoclip/logit_scale_weights.pth')"
   ]
  },
  {
   "cell_type": "code",
   "execution_count": 24,
   "metadata": {},
   "outputs": [
    {
     "name": "stdout",
     "output_type": "stream",
     "text": [
      "torch.Size([5, 2])\n",
      "Top 5 GPS Predictions 📍\n",
      "========================\n",
      "Prediction 1: (39.052750, -77.033386) - Probability: 0.005673\n",
      "Prediction 2: (39.059383, -77.031860) - Probability: 0.005458\n",
      "Prediction 3: (36.906528, -76.199455) - Probability: 0.003734\n",
      "Prediction 4: (43.531212, -79.645042) - Probability: 0.003402\n",
      "Prediction 5: (39.871918, -75.675499) - Probability: 0.003370\n"
     ]
    }
   ],
   "source": [
    "# Image Upload & Display\n",
    "from PIL import Image\n",
    "from io import BytesIO\n",
    "# from google.colab import files\n",
    "import matplotlib.pyplot as plt\n",
    "\n",
    "# Heatmap\n",
    "import folium\n",
    "from folium.plugins import HeatMap\n",
    "\n",
    "model.to('mps')\n",
    "# Make predictions\n",
    "top_pred_gps, top_pred_prob = model.predict(\"download.png\", top_k=5)\n",
    "print(top_pred_gps.shape)\n",
    "# Display the top 5 GPS predictions\n",
    "print(\"Top 5 GPS Predictions 📍\")\n",
    "print(\"========================\")\n",
    "for i in range(5):\n",
    "    lat, lon = top_pred_gps[i]\n",
    "    print(f\"Prediction {i+1}: ({lat:.6f}, {lon:.6f}) - Probability: {top_pred_prob[i]:.6f}\")"
   ]
  },
  {
   "cell_type": "code",
   "execution_count": null,
   "metadata": {},
   "outputs": [],
   "source": []
  }
 ],
 "metadata": {
  "kernelspec": {
   "display_name": "mlp",
   "language": "python",
   "name": "python3"
  },
  "language_info": {
   "codemirror_mode": {
    "name": "ipython",
    "version": 3
   },
   "file_extension": ".py",
   "mimetype": "text/x-python",
   "name": "python",
   "nbconvert_exporter": "python",
   "pygments_lexer": "ipython3",
   "version": "3.12.2"
  }
 },
 "nbformat": 4,
 "nbformat_minor": 2
}
