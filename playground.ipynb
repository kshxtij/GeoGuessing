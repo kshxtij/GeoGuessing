{
 "cells": [
  {
   "cell_type": "code",
   "execution_count": 1,
   "metadata": {},
   "outputs": [],
   "source": [
    "from torch.utils.data import DataLoader\n",
    "from data.hfdataset import HFImageDataset\n",
    "from data.transforms.geoclip import geoclip_train_transform\n",
    "from model.embedding_heads.clip_image import CLIPImageEncoder\n",
    "from model.embedding_heads.clip_text import CLIPTextEncoder\n",
    "from model.embedding_heads.dino_image import DINOImageEncoder\n",
    "from model.embedding_heads.rff_location import RFFLocationEncoder\n",
    "from model.GeoClip import GeoCLIP"
   ]
  },
  {
   "cell_type": "code",
   "execution_count": 2,
   "metadata": {},
   "outputs": [],
   "source": [
    "dataset = HFImageDataset('GeoGuessing/GeoTaggedImages', 'train[:-16]', transform=geoclip_train_transform())"
   ]
  },
  {
   "cell_type": "code",
   "execution_count": 3,
   "metadata": {},
   "outputs": [],
   "source": [
    "dataset.set_columns('image', 'lat', 'lon')"
   ]
  },
  {
   "cell_type": "code",
   "execution_count": 4,
   "metadata": {},
   "outputs": [],
   "source": [
    "dataloader = DataLoader(dataset, batch_size=256, shuffle=True)"
   ]
  },
  {
   "cell_type": "code",
   "execution_count": 5,
   "metadata": {},
   "outputs": [],
   "source": [
    "location_encoder = RFFLocationEncoder()"
   ]
  },
  {
   "cell_type": "code",
   "execution_count": 6,
   "metadata": {},
   "outputs": [],
   "source": [
    "image_encoder = CLIPImageEncoder()"
   ]
  },
  {
   "cell_type": "code",
   "execution_count": 7,
   "metadata": {},
   "outputs": [
    {
     "name": "stderr",
     "output_type": "stream",
     "text": [
      "/Users/kshitij/Documents/University/Year4/MLP/RealProject/model/embedding_heads/rff_location.py:219: FutureWarning: You are using `torch.load` with `weights_only=False` (the current default value), which uses the default pickle module implicitly. It is possible to construct malicious pickle data which will execute arbitrary code during unpickling (See https://github.com/pytorch/pytorch/blob/main/SECURITY.md#untrusted-models for more details). In a future release, the default value for `weights_only` will be flipped to `True`. This limits the functions that could be executed during unpickling. Arbitrary objects will no longer be allowed to be loaded via this mode unless they are explicitly allowlisted by the user via `torch.serialization.add_safe_globals`. We recommend you start setting `weights_only=True` for any use case where you don't have full control of the loaded file. Please open an issue on GitHub for any issues related to this experimental feature.\n",
      "  self.load_state_dict(torch.load(path))\n",
      "/Users/kshitij/Documents/University/Year4/MLP/RealProject/model/embedding_heads/clip_image.py:25: FutureWarning: You are using `torch.load` with `weights_only=False` (the current default value), which uses the default pickle module implicitly. It is possible to construct malicious pickle data which will execute arbitrary code during unpickling (See https://github.com/pytorch/pytorch/blob/main/SECURITY.md#untrusted-models for more details). In a future release, the default value for `weights_only` will be flipped to `True`. This limits the functions that could be executed during unpickling. Arbitrary objects will no longer be allowed to be loaded via this mode unless they are explicitly allowlisted by the user via `torch.serialization.add_safe_globals`. We recommend you start setting `weights_only=True` for any use case where you don't have full control of the loaded file. Please open an issue on GitHub for any issues related to this experimental feature.\n",
      "  self.mlp.load_state_dict(torch.load(mlp_weights_path))\n"
     ]
    }
   ],
   "source": [
    "location_encoder.load_weights('/Users/kshitij/Documents/University/Year4/MLP/RealProject/weights/pretrained_geoclip/location_encoder_weights.pth')\n",
    "image_encoder.load_weights('/Users/kshitij/Documents/University/Year4/MLP/RealProject/weights/pretrained_geoclip/image_encoder_mlp_weights.pth')"
   ]
  },
  {
   "cell_type": "code",
   "execution_count": 8,
   "metadata": {},
   "outputs": [],
   "source": [
    "model = GeoCLIP(image_encoder, location_encoder, '/Users/kshitij/Documents/University/Year4/MLP/RealProject/weights/pretrained_geoclip/coordinates_100K.csv')"
   ]
  },
  {
   "cell_type": "code",
   "execution_count": 9,
   "metadata": {},
   "outputs": [
    {
     "name": "stderr",
     "output_type": "stream",
     "text": [
      "/Users/kshitij/Documents/University/Year4/MLP/RealProject/model/GeoClip.py:38: FutureWarning: You are using `torch.load` with `weights_only=False` (the current default value), which uses the default pickle module implicitly. It is possible to construct malicious pickle data which will execute arbitrary code during unpickling (See https://github.com/pytorch/pytorch/blob/main/SECURITY.md#untrusted-models for more details). In a future release, the default value for `weights_only` will be flipped to `True`. This limits the functions that could be executed during unpickling. Arbitrary objects will no longer be allowed to be loaded via this mode unless they are explicitly allowlisted by the user via `torch.serialization.add_safe_globals`. We recommend you start setting `weights_only=True` for any use case where you don't have full control of the loaded file. Please open an issue on GitHub for any issues related to this experimental feature.\n",
      "  self.logit_scale = nn.Parameter(torch.load(path))\n"
     ]
    }
   ],
   "source": [
    "model.load_weights('/Users/kshitij/Documents/University/Year4/MLP/RealProject/weights/pretrained_geoclip/logit_scale_weights.pth')"
   ]
  },
  {
   "cell_type": "code",
   "execution_count": 10,
   "metadata": {},
   "outputs": [
    {
     "name": "stdout",
     "output_type": "stream",
     "text": [
      "torch.Size([5, 2])\n",
      "Top 5 GPS Predictions 📍\n",
      "========================\n",
      "Prediction 1: (51.327446, -116.183510) - Probability: 0.087768\n",
      "Prediction 2: (51.326401, -116.182632) - Probability: 0.086992\n",
      "Prediction 3: (51.328197, -116.180931) - Probability: 0.084368\n",
      "Prediction 4: (51.327808, -116.180336) - Probability: 0.083671\n",
      "Prediction 5: (51.322353, -116.185570) - Probability: 0.080773\n"
     ]
    }
   ],
   "source": [
    "# Image Upload & Display\n",
    "from PIL import Image\n",
    "from io import BytesIO\n",
    "# from google.colab import files\n",
    "import matplotlib.pyplot as plt\n",
    "\n",
    "# Heatmap\n",
    "import folium\n",
    "from folium.plugins import HeatMap\n",
    "\n",
    "model.to('mps')\n",
    "# Make predictions\n",
    "top_pred_gps, top_pred_prob = model.predict(\"download.png\", top_k=5)\n",
    "print(top_pred_gps.shape)\n",
    "# Display the top 5 GPS predictions\n",
    "print(\"Top 5 GPS Predictions 📍\")\n",
    "print(\"========================\")\n",
    "for i in range(5):\n",
    "    lat, lon = top_pred_gps[i]\n",
    "    print(f\"Prediction {i+1}: ({lat:.6f}, {lon:.6f}) - Probability: {top_pred_prob[i]:.6f}\")"
   ]
  },
  {
   "cell_type": "code",
   "execution_count": null,
   "metadata": {},
   "outputs": [],
   "source": [
    "from geoclip import GeoCLIP as RealGeoCLIP\n",
    "\n",
    "model2 = RealGeoCLIP()\n",
    "model2.to('cpu')\n",
    "\n"
   ]
  }
 ],
 "metadata": {
  "kernelspec": {
   "display_name": "mlp",
   "language": "python",
   "name": "python3"
  },
  "language_info": {
   "codemirror_mode": {
    "name": "ipython",
    "version": 3
   },
   "file_extension": ".py",
   "mimetype": "text/x-python",
   "name": "python",
   "nbconvert_exporter": "python",
   "pygments_lexer": "ipython3",
   "version": "3.12.2"
  }
 },
 "nbformat": 4,
 "nbformat_minor": 2
}
